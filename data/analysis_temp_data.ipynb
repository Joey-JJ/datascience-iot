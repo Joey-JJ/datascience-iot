{
  "cells": [
    {
      "cell_type": "markdown",
      "metadata": {
        "id": "view-in-github",
        "colab_type": "text"
      },
      "source": [
        "<a href=\"https://colab.research.google.com/github/Joey-JJ/datascience-iot/blob/main/data/analysis_temp_data.ipynb\" target=\"_parent\"><img src=\"https://colab.research.google.com/assets/colab-badge.svg\" alt=\"Open In Colab\"/></a>"
      ]
    },
    {
      "cell_type": "markdown",
      "id": "dc4500ea",
      "metadata": {
        "id": "dc4500ea"
      },
      "source": [
        "# Analysing temperature and humidity data"
      ]
    },
    {
      "cell_type": "code",
      "execution_count": null,
      "id": "0d2c18a9",
      "metadata": {
        "id": "0d2c18a9"
      },
      "outputs": [],
      "source": [
        "import pandas as pd\n",
        "import matplotlib.pyplot as plt"
      ]
    },
    {
      "cell_type": "code",
      "execution_count": null,
      "id": "fea466e5",
      "metadata": {
        "id": "fea466e5",
        "outputId": "4e58cf7e-df46-428c-b325-319b8edd6307"
      },
      "outputs": [
        {
          "data": {
            "text/html": [
              "<div>\n",
              "<style scoped>\n",
              "    .dataframe tbody tr th:only-of-type {\n",
              "        vertical-align: middle;\n",
              "    }\n",
              "\n",
              "    .dataframe tbody tr th {\n",
              "        vertical-align: top;\n",
              "    }\n",
              "\n",
              "    .dataframe thead th {\n",
              "        text-align: right;\n",
              "    }\n",
              "</style>\n",
              "<table border=\"1\" class=\"dataframe\">\n",
              "  <thead>\n",
              "    <tr style=\"text-align: right;\">\n",
              "      <th></th>\n",
              "      <th>time</th>\n",
              "      <th>temp</th>\n",
              "      <th>hum</th>\n",
              "    </tr>\n",
              "  </thead>\n",
              "  <tbody>\n",
              "    <tr>\n",
              "      <th>0</th>\n",
              "      <td>2022-01-28 22:22:39</td>\n",
              "      <td>19.4</td>\n",
              "      <td>55</td>\n",
              "    </tr>\n",
              "    <tr>\n",
              "      <th>1</th>\n",
              "      <td>2022-01-28 22:22:44</td>\n",
              "      <td>19.2</td>\n",
              "      <td>55</td>\n",
              "    </tr>\n",
              "    <tr>\n",
              "      <th>2</th>\n",
              "      <td>2022-01-28 22:22:49</td>\n",
              "      <td>19.2</td>\n",
              "      <td>55</td>\n",
              "    </tr>\n",
              "    <tr>\n",
              "      <th>3</th>\n",
              "      <td>2022-01-28 22:22:54</td>\n",
              "      <td>19.2</td>\n",
              "      <td>55</td>\n",
              "    </tr>\n",
              "    <tr>\n",
              "      <th>4</th>\n",
              "      <td>2022-01-28 22:22:59</td>\n",
              "      <td>19.2</td>\n",
              "      <td>56</td>\n",
              "    </tr>\n",
              "    <tr>\n",
              "      <th>...</th>\n",
              "      <td>...</td>\n",
              "      <td>...</td>\n",
              "      <td>...</td>\n",
              "    </tr>\n",
              "    <tr>\n",
              "      <th>617</th>\n",
              "      <td>2022-01-28 23:27:19</td>\n",
              "      <td>17.9</td>\n",
              "      <td>63</td>\n",
              "    </tr>\n",
              "    <tr>\n",
              "      <th>618</th>\n",
              "      <td>2022-01-28 23:27:24</td>\n",
              "      <td>17.9</td>\n",
              "      <td>63</td>\n",
              "    </tr>\n",
              "    <tr>\n",
              "      <th>619</th>\n",
              "      <td>2022-01-28 23:27:29</td>\n",
              "      <td>17.9</td>\n",
              "      <td>63</td>\n",
              "    </tr>\n",
              "    <tr>\n",
              "      <th>620</th>\n",
              "      <td>2022-01-28 23:27:34</td>\n",
              "      <td>17.9</td>\n",
              "      <td>63</td>\n",
              "    </tr>\n",
              "    <tr>\n",
              "      <th>621</th>\n",
              "      <td>2022-01-28 23:27:39</td>\n",
              "      <td>17.9</td>\n",
              "      <td>63</td>\n",
              "    </tr>\n",
              "  </tbody>\n",
              "</table>\n",
              "<p>622 rows × 3 columns</p>\n",
              "</div>"
            ],
            "text/plain": [
              "                    time  temp  hum\n",
              "0    2022-01-28 22:22:39  19.4   55\n",
              "1    2022-01-28 22:22:44  19.2   55\n",
              "2    2022-01-28 22:22:49  19.2   55\n",
              "3    2022-01-28 22:22:54  19.2   55\n",
              "4    2022-01-28 22:22:59  19.2   56\n",
              "..                   ...   ...  ...\n",
              "617  2022-01-28 23:27:19  17.9   63\n",
              "618  2022-01-28 23:27:24  17.9   63\n",
              "619  2022-01-28 23:27:29  17.9   63\n",
              "620  2022-01-28 23:27:34  17.9   63\n",
              "621  2022-01-28 23:27:39  17.9   63\n",
              "\n",
              "[622 rows x 3 columns]"
            ]
          },
          "execution_count": 39,
          "metadata": {},
          "output_type": "execute_result"
        }
      ],
      "source": [
        "# Importing data\n",
        "data = pd.read_csv('data.csv', sep=',')\n",
        "data"
      ]
    },
    {
      "cell_type": "code",
      "execution_count": null,
      "id": "cb4d4e23",
      "metadata": {
        "id": "cb4d4e23",
        "outputId": "9dab1df9-b041-4241-8e20-6b6da42935a5"
      },
      "outputs": [
        {
          "data": {
            "text/html": [
              "<div>\n",
              "<style scoped>\n",
              "    .dataframe tbody tr th:only-of-type {\n",
              "        vertical-align: middle;\n",
              "    }\n",
              "\n",
              "    .dataframe tbody tr th {\n",
              "        vertical-align: top;\n",
              "    }\n",
              "\n",
              "    .dataframe thead th {\n",
              "        text-align: right;\n",
              "    }\n",
              "</style>\n",
              "<table border=\"1\" class=\"dataframe\">\n",
              "  <thead>\n",
              "    <tr style=\"text-align: right;\">\n",
              "      <th></th>\n",
              "      <th>temp</th>\n",
              "      <th>hum</th>\n",
              "    </tr>\n",
              "  </thead>\n",
              "  <tbody>\n",
              "    <tr>\n",
              "      <th>count</th>\n",
              "      <td>622.000000</td>\n",
              "      <td>622.000000</td>\n",
              "    </tr>\n",
              "    <tr>\n",
              "      <th>mean</th>\n",
              "      <td>18.346141</td>\n",
              "      <td>62.361736</td>\n",
              "    </tr>\n",
              "    <tr>\n",
              "      <th>std</th>\n",
              "      <td>0.335370</td>\n",
              "      <td>2.146641</td>\n",
              "    </tr>\n",
              "    <tr>\n",
              "      <th>min</th>\n",
              "      <td>17.900000</td>\n",
              "      <td>55.000000</td>\n",
              "    </tr>\n",
              "    <tr>\n",
              "      <th>25%</th>\n",
              "      <td>18.100000</td>\n",
              "      <td>61.000000</td>\n",
              "    </tr>\n",
              "    <tr>\n",
              "      <th>50%</th>\n",
              "      <td>18.200000</td>\n",
              "      <td>63.000000</td>\n",
              "    </tr>\n",
              "    <tr>\n",
              "      <th>75%</th>\n",
              "      <td>18.600000</td>\n",
              "      <td>64.000000</td>\n",
              "    </tr>\n",
              "    <tr>\n",
              "      <th>max</th>\n",
              "      <td>19.400000</td>\n",
              "      <td>64.000000</td>\n",
              "    </tr>\n",
              "  </tbody>\n",
              "</table>\n",
              "</div>"
            ],
            "text/plain": [
              "             temp         hum\n",
              "count  622.000000  622.000000\n",
              "mean    18.346141   62.361736\n",
              "std      0.335370    2.146641\n",
              "min     17.900000   55.000000\n",
              "25%     18.100000   61.000000\n",
              "50%     18.200000   63.000000\n",
              "75%     18.600000   64.000000\n",
              "max     19.400000   64.000000"
            ]
          },
          "execution_count": 74,
          "metadata": {},
          "output_type": "execute_result"
        }
      ],
      "source": [
        "# Setting column 'time' to 'datetime' for easier plotting\n",
        "data.time = pd.to_datetime(data.time)\n",
        "data.describe()"
      ]
    },
    {
      "cell_type": "code",
      "execution_count": null,
      "id": "b921b1a1",
      "metadata": {
        "id": "b921b1a1",
        "outputId": "6e71ef97-6354-43f8-8e34-c615eef9bc77"
      },
      "outputs": [
        {
          "data": {
            "image/png": "[encoded data removed]",
            "text/plain": [
              "<Figure size 720x480 with 1 Axes>"
            ]
          },
          "metadata": {
            "needs_background": "light"
          },
          "output_type": "display_data"
        }
      ],
      "source": [
        "# Plotting temperature data\n",
        "plt.figure(figsize=(6, 4), dpi=120)\n",
        "\n",
        "plt.plot(data.time, data.temp, 'r-')\n",
        "plt.xticks(rotation=90)\n",
        "\n",
        "\n",
        "plt.title('Temperature (C) over time')\n",
        "plt.ylabel('Temperature (C)')\n",
        "plt.xlabel('Time (DD HH:MM)')\n",
        "\n",
        "plt.show()"
      ]
    },
    {
      "cell_type": "code",
      "execution_count": null,
      "id": "94746069",
      "metadata": {
        "id": "94746069",
        "outputId": "24cb65eb-5b4b-4acc-e4c6-ca28a5aba851"
      },
      "outputs": [
        {
          "data": {
            "image/png": "[encoded data removed]",
            "text/plain": [
              "<Figure size 720x480 with 1 Axes>"
            ]
          },
          "metadata": {
            "needs_background": "light"
          },
          "output_type": "display_data"
        }
      ],
      "source": [
        "# Plotting humidity data\n",
        "plt.figure(figsize=(6, 4), dpi=120)\n",
        "\n",
        "plt.plot(data.time, data.hum, 'b-')\n",
        "plt.xticks(rotation=90)\n",
        "\n",
        "plt.title('Humidity (%) over time')\n",
        "plt.ylabel('Humidity (%)')\n",
        "plt.xlabel('Time (DD HH:MM)')\n",
        "\n",
        "plt.show()"
      ]
    }
  ],
  "metadata": {
    "kernelspec": {
      "display_name": "Python 3",
      "language": "python",
      "name": "python3"
    },
    "language_info": {
      "codemirror_mode": {
        "name": "ipython",
        "version": 3
      },
      "file_extension": ".py",
      "mimetype": "text/x-python",
      "name": "python",
      "nbconvert_exporter": "python",
      "pygments_lexer": "ipython3",
      "version": "3.8.8"
    },
    "colab": {
      "name": "analysis_temp_data.ipynb",
      "provenance": [],
      "include_colab_link": true
    }
  },
  "nbformat": 4,
  "nbformat_minor": 5
}